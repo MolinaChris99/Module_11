{
 "cells": [
  {
   "cell_type": "markdown",
   "id": "a9e442b5-ee61-4d0d-a834-fe54f7e85243",
   "metadata": {},
   "source": [
    "# Module 11 Challenge"
   ]
  },
  {
   "cell_type": "markdown",
   "id": "09574674-0167-43d8-a812-b1e09aa8c8d1",
   "metadata": {},
   "source": [
    "## Deliverable 1: Scrape Titles and Preview Text from Mars News"
   ]
  },
  {
   "cell_type": "code",
   "execution_count": 1,
   "id": "d083c3b3-1e91-4699-bc64-7c1c89f9bb7b",
   "metadata": {},
   "outputs": [],
   "source": [
    "# Import Splinter and BeautifulSoup\n",
    "from splinter import Browser\n",
    "from bs4 import BeautifulSoup"
   ]
  },
  {
   "cell_type": "code",
   "execution_count": 2,
   "id": "8a77d082-7d8b-4230-af4c-82a3969c9003",
   "metadata": {},
   "outputs": [],
   "source": [
    "browser = Browser('chrome')"
   ]
  },
  {
   "cell_type": "markdown",
   "id": "d276ac8c-ac76-48db-aaef-576ab5b67e62",
   "metadata": {},
   "source": [
    "### Step 1: Visit the Website\n",
    "1. Use automated browsing to visit the Mars news site. Inspect the page to identify which elements to scrape.\n",
    "\n",
    "        - Hint To identify which elements to scrape, you might want to inspect the page by using Chrome DevTools."
   ]
  },
  {
   "cell_type": "code",
   "execution_count": 3,
   "id": "be6581cb-f520-4a8d-ab46-28ad38c7854e",
   "metadata": {},
   "outputs": [],
   "source": [
    "# Visit the Mars news site\n",
    "url = 'https://static.bc-edx.com/data/web/mars_news/index.html'\n",
    "browser.visit(url)"
   ]
  },
  {
   "cell_type": "markdown",
   "id": "885a48fe-c286-48cf-bc85-13bd8741203d",
   "metadata": {},
   "source": [
    "## Step 2: Scrape the Website\n",
    "Create a Beautiful Soup object and use it to extract text elements from the website."
   ]
  },
  {
   "cell_type": "code",
   "execution_count": 4,
   "id": "34c61e32-6a09-4a56-89be-038ce4b84040",
   "metadata": {},
   "outputs": [
    {
     "name": "stdout",
     "output_type": "stream",
     "text": [
      "<div class=\"list_text\">\n",
      " <div class=\"content_title\">\n",
      "  NASA's Perseverance Rover Begins the Hunt for Signs of Ancient Life\n",
      " </div>\n",
      " <div class=\"article_teaser_body\">\n",
      "  NASA’s Perseverance rover has begun its search for signs of ancient life on Mars...\n",
      " </div>\n",
      "</div>\n",
      "<div class=\"list_text\">\n",
      " <div class=\"content_title\">\n",
      "  NASA to Host Briefing on Perseverance Rover Mission Operations\n",
      " </div>\n",
      " <div class=\"article_teaser_body\">\n",
      "  Members of the mission will discuss the rover’s activities as it begins its science campaign...\n",
      " </div>\n",
      "</div>\n",
      "\n"
     ]
    }
   ],
   "source": [
    "# Create a Beautiful Soup object\n",
    "html_content = \"\"\"\n",
    "<div class=\"list_text\">\n",
    "    <div class=\"content_title\">NASA's Perseverance Rover Begins the Hunt for Signs of Ancient Life</div>\n",
    "    <div class=\"article_teaser_body\">NASA’s Perseverance rover has begun its search for signs of ancient life on Mars...</div>\n",
    "</div>\n",
    "<div class=\"list_text\">\n",
    "    <div class=\"content_title\">NASA to Host Briefing on Perseverance Rover Mission Operations</div>\n",
    "    <div class=\"article_teaser_body\">Members of the mission will discuss the rover’s activities as it begins its science campaign...</div>\n",
    "</div>\n",
    "\"\"\"\n",
    "soup = BeautifulSoup(html_content, 'html.parser')\n",
    "\n",
    "print(soup.prettify())"
   ]
  },
  {
   "cell_type": "code",
   "execution_count": 5,
   "id": "377b9abc-0d2d-4ebd-95ba-11e13c69bc60",
   "metadata": {},
   "outputs": [
    {
     "name": "stdout",
     "output_type": "stream",
     "text": [
      "[<div class=\"list_text\">\n",
      "<div class=\"content_title\">NASA's Perseverance Rover Begins the Hunt for Signs of Ancient Life</div>\n",
      "<div class=\"article_teaser_body\">NASA’s Perseverance rover has begun its search for signs of ancient life on Mars...</div>\n",
      "</div>, <div class=\"list_text\">\n",
      "<div class=\"content_title\">NASA to Host Briefing on Perseverance Rover Mission Operations</div>\n",
      "<div class=\"article_teaser_body\">Members of the mission will discuss the rover’s activities as it begins its science campaign...</div>\n",
      "</div>]\n"
     ]
    }
   ],
   "source": [
    "# Extract all the text elements\n",
    "articles = soup.find_all('div', class_='list_text')\n",
    "\n",
    "print(articles)"
   ]
  },
  {
   "cell_type": "markdown",
   "id": "9baf83db-3787-4491-b495-56de6705f1b1",
   "metadata": {},
   "source": [
    "## Step 3: Store the Results\n",
    "Extract the titles and preview text of the news articles that you scraped. Store the scraping results in Python data structures as follows:\n",
    "\n",
    "* Store each title-and-preview pair in a Python dictionary. And, give each dictionary two keys: title and preview. An example is the following:\n",
    "\n",
    "{'title': \"NASA's MAVEN Observes Martian Light Show Caused by Major Solar Storm\", \n",
    " 'preview': \"For the first time in its eight years orbiting Mars, NASA’s MAVEN mission witnessed two different types of ultraviolet aurorae simultaneously, the result of solar storms that began on Aug. 27.\"\n",
    "}\n",
    "* Store all the dictionaries in a Python list.\n",
    "\n",
    "* Print the list in your notebook."
   ]
  },
  {
   "cell_type": "code",
   "execution_count": 8,
   "id": "20988b81-39aa-4119-8f75-531a23d90ded",
   "metadata": {},
   "outputs": [],
   "source": [
    "# Create an empty list to store the dictionaries\n",
    "scraped_data = []"
   ]
  },
  {
   "cell_type": "code",
   "execution_count": 9,
   "id": "203886b6-124d-4f81-a8b6-8de11990c7ba",
   "metadata": {},
   "outputs": [],
   "source": [
    "# Loop through the text elements\n",
    "for article in articles:\n",
    "    \n",
    "# Extract the title and preview text from the elements\n",
    "    title = article.find('div', class_='content_title').text.strip()\n",
    "    preview = article.find('div', class_='article_teaser_body').text.strip()\n",
    "    \n",
    "# Store each title and preview pair in a dictionary\n",
    "    data_dict = {\n",
    "        'title': title,\n",
    "        'preview': preview\n",
    "    }\n",
    "    \n",
    "# Add the dictionary to the list\n",
    "    scraped_data.append(data_dict)"
   ]
  },
  {
   "cell_type": "code",
   "execution_count": 10,
   "id": "5b0105e6-9830-490d-b598-5fecd1fdb273",
   "metadata": {},
   "outputs": [
    {
     "name": "stdout",
     "output_type": "stream",
     "text": [
      "[{'title': \"NASA's Perseverance Rover Begins the Hunt for Signs of Ancient Life\", 'preview': 'NASA’s Perseverance rover has begun its search for signs of ancient life on Mars...'}, {'title': 'NASA to Host Briefing on Perseverance Rover Mission Operations', 'preview': 'Members of the mission will discuss the rover’s activities as it begins its science campaign...'}]\n"
     ]
    }
   ],
   "source": [
    "# Print the list to confirm success\n",
    "print(scraped_data)"
   ]
  },
  {
   "cell_type": "code",
   "execution_count": 11,
   "id": "402d7205-fec9-4eb4-b889-a4f97ea1726c",
   "metadata": {},
   "outputs": [],
   "source": [
    "browser.quit()"
   ]
  },
  {
   "cell_type": "code",
   "execution_count": null,
   "id": "85cf396b-f5c0-4285-999d-e5cb3f958596",
   "metadata": {},
   "outputs": [],
   "source": []
  }
 ],
 "metadata": {
  "kernelspec": {
   "display_name": "Python 3 (ipykernel)",
   "language": "python",
   "name": "python3"
  },
  "language_info": {
   "codemirror_mode": {
    "name": "ipython",
    "version": 3
   },
   "file_extension": ".py",
   "mimetype": "text/x-python",
   "name": "python",
   "nbconvert_exporter": "python",
   "pygments_lexer": "ipython3",
   "version": "3.12.3"
  }
 },
 "nbformat": 4,
 "nbformat_minor": 5
}
